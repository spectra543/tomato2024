{
 "cells": [
  {
   "cell_type": "markdown",
   "metadata": {},
   "source": [
    "Prior to running this script, make sure to have:<br>\n",
    "1. Nvidia driver<br>\n",
    "2. Cuda toolkit<br>\n",
    "<br>\n",
    "As there are many dependeency issue regarding the toolkit and ubuntu/windows the used setup is described in the following:<br>\n",
    "A. Nvidia driver 550.120<br>\n",
    "B. Cuda toolkit (legacy) 12.4 <br>\n",
    "On GPU: NVIDIA GeForce RTX 4050 Laptop GPU<br>\n",
    "\n",
    "Cuda and driver are interdependent. Pls read compatability chart prior to installation"
   ]
  },
  {
   "cell_type": "code",
   "execution_count": 1,
   "metadata": {},
   "outputs": [
    {
     "name": "stdout",
     "output_type": "stream",
     "text": [
      "###############################\n",
      "## Cuda availability testfollowing setup is describedwas used and runnable ##\n",
      "###############################\n",
      "GPU available: True\n",
      "Torch cuda device: <torch.cuda.device object at 0x7c89e8304a60> \n",
      "Device name: NVIDIA GeForce RTX 4050 Laptop GPU\n",
      "###############################\n",
      "##### Testing completed ##### \n",
      "###############################\n"
     ]
    }
   ],
   "source": [
    "# GPU available must be True for GPU usage\n",
    "import torch\n",
    "print(f\"###############################\\n## Cuda availability testfollowing setup is describedwas used and runnable ##\\n###############################\\nGPU available: {torch.cuda.is_available()}\\nTorch cuda device: {torch.cuda.device(0)} \\nDevice name: {torch.cuda.get_device_name(0)}\\n###############################\\n##### Testing completed ##### \\n###############################\")"
   ]
  },
  {
   "cell_type": "code",
   "execution_count": 2,
   "metadata": {},
   "outputs": [],
   "source": [
    "from ultralytics import YOLO"
   ]
  },
  {
   "cell_type": "code",
   "execution_count": 3,
   "metadata": {},
   "outputs": [],
   "source": [
    "model = YOLO(\"yolo11n.pt\")"
   ]
  },
  {
   "cell_type": "markdown",
   "metadata": {},
   "source": [
    "# Pre-merge\n",
    "### Test training success with stem_recoded"
   ]
  },
  {
   "cell_type": "code",
   "execution_count": 4,
   "metadata": {},
   "outputs": [],
   "source": [
    "#train_results = model.train(\n",
    "#    data = \"/home/anna/Git/tomato2024/stem_recoded_2/data.yaml\",\n",
    "#    epochs = 2,\n",
    "#    imgsz = 640,\n",
    "#    device = \"gpu\" # cpu\n",
    "#)"
   ]
  },
  {
   "cell_type": "markdown",
   "metadata": {},
   "source": [
    "Output for training of tomato stem dataset appeared <br>\n",
    "Testing of tomato stem dataset successful"
   ]
  },
  {
   "cell_type": "code",
   "execution_count": 5,
   "metadata": {},
   "outputs": [],
   "source": [
    "\n",
    "#train_results = model.train(\n",
    "#    data = \"/home/anna/Git/tomato2024/tomatoDataset/data.yaml\",\n",
    "#    epochs = 2,\n",
    "#    imgsz = 640,\n",
    "#    device = \"gpu\" # cpu\n",
    "#)\n"
   ]
  },
  {
   "cell_type": "markdown",
   "metadata": {},
   "source": [
    "Output for training of tomato stem dataset appeared <br>\n",
    "Testing of tomato stem dataset successful"
   ]
  },
  {
   "cell_type": "markdown",
   "metadata": {},
   "source": [
    "### Matching of both datasets together manually - training testing"
   ]
  },
  {
   "cell_type": "code",
   "execution_count": 6,
   "metadata": {},
   "outputs": [
    {
     "name": "stdout",
     "output_type": "stream",
     "text": [
      "New https://pypi.org/project/ultralytics/8.3.32 available 😃 Update with 'pip install -U ultralytics'\n",
      "Ultralytics 8.3.31 🚀 Python-3.10.15 torch-2.5.1+cu124 CUDA:gpu (NVIDIA GeForce RTX 4050 Laptop GPU, 5898MiB)\n",
      "\u001b[34m\u001b[1mengine/trainer: \u001b[0mtask=detect, mode=train, model=yolo11n.pt, data=/home/anna/Git/tomato2024/merged_Dataset/data.yaml, epochs=2, time=None, patience=100, batch=16, imgsz=320, save=True, save_period=-1, cache=False, device=gpu, workers=8, project=None, name=train21, exist_ok=False, pretrained=True, optimizer=auto, verbose=True, seed=0, deterministic=True, single_cls=False, rect=False, cos_lr=False, close_mosaic=10, resume=False, amp=True, fraction=1.0, profile=False, freeze=None, multi_scale=False, overlap_mask=True, mask_ratio=4, dropout=0.0, val=True, split=val, save_json=False, save_hybrid=False, conf=None, iou=0.7, max_det=300, half=False, dnn=False, plots=True, source=None, vid_stride=1, stream_buffer=False, visualize=False, augment=False, agnostic_nms=False, classes=None, retina_masks=False, embed=None, show=False, save_frames=False, save_txt=False, save_conf=False, save_crop=False, show_labels=True, show_conf=True, show_boxes=True, line_width=None, format=torchscript, keras=False, optimize=False, int8=False, dynamic=False, simplify=True, opset=None, workspace=4, nms=False, lr0=0.01, lrf=0.01, momentum=0.937, weight_decay=0.0005, warmup_epochs=3.0, warmup_momentum=0.8, warmup_bias_lr=0.1, box=7.5, cls=0.5, dfl=1.5, pose=12.0, kobj=1.0, label_smoothing=0.0, nbs=64, hsv_h=0.015, hsv_s=0.7, hsv_v=0.4, degrees=0.0, translate=0.1, scale=0.5, shear=0.0, perspective=0.0, flipud=0.0, fliplr=0.5, bgr=0.0, mosaic=1.0, mixup=0.0, copy_paste=0.0, copy_paste_mode=flip, auto_augment=randaugment, erasing=0.4, crop_fraction=1.0, cfg=None, tracker=botsort.yaml, save_dir=runs/detect/train21\n",
      "Overriding model.yaml nc=80 with nc=4\n",
      "\n",
      "                   from  n    params  module                                       arguments                     \n",
      "  0                  -1  1       464  ultralytics.nn.modules.conv.Conv             [3, 16, 3, 2]                 \n",
      "  1                  -1  1      4672  ultralytics.nn.modules.conv.Conv             [16, 32, 3, 2]                \n",
      "  2                  -1  1      6640  ultralytics.nn.modules.block.C3k2            [32, 64, 1, False, 0.25]      \n",
      "  3                  -1  1     36992  ultralytics.nn.modules.conv.Conv             [64, 64, 3, 2]                \n",
      "  4                  -1  1     26080  ultralytics.nn.modules.block.C3k2            [64, 128, 1, False, 0.25]     \n",
      "  5                  -1  1    147712  ultralytics.nn.modules.conv.Conv             [128, 128, 3, 2]              \n",
      "  6                  -1  1     87040  ultralytics.nn.modules.block.C3k2            [128, 128, 1, True]           \n",
      "  7                  -1  1    295424  ultralytics.nn.modules.conv.Conv             [128, 256, 3, 2]              \n",
      "  8                  -1  1    346112  ultralytics.nn.modules.block.C3k2            [256, 256, 1, True]           \n",
      "  9                  -1  1    164608  ultralytics.nn.modules.block.SPPF            [256, 256, 5]                 \n",
      " 10                  -1  1    249728  ultralytics.nn.modules.block.C2PSA           [256, 256, 1]                 \n",
      " 11                  -1  1         0  torch.nn.modules.upsampling.Upsample         [None, 2, 'nearest']          \n",
      " 12             [-1, 6]  1         0  ultralytics.nn.modules.conv.Concat           [1]                           \n",
      " 13                  -1  1    111296  ultralytics.nn.modules.block.C3k2            [384, 128, 1, False]          \n",
      " 14                  -1  1         0  torch.nn.modules.upsampling.Upsample         [None, 2, 'nearest']          \n",
      " 15             [-1, 4]  1         0  ultralytics.nn.modules.conv.Concat           [1]                           \n",
      " 16                  -1  1     32096  ultralytics.nn.modules.block.C3k2            [256, 64, 1, False]           \n",
      " 17                  -1  1     36992  ultralytics.nn.modules.conv.Conv             [64, 64, 3, 2]                \n",
      " 18            [-1, 13]  1         0  ultralytics.nn.modules.conv.Concat           [1]                           \n",
      " 19                  -1  1     86720  ultralytics.nn.modules.block.C3k2            [192, 128, 1, False]          \n",
      " 20                  -1  1    147712  ultralytics.nn.modules.conv.Conv             [128, 128, 3, 2]              \n",
      " 21            [-1, 10]  1         0  ultralytics.nn.modules.conv.Concat           [1]                           \n",
      " 22                  -1  1    378880  ultralytics.nn.modules.block.C3k2            [384, 256, 1, True]           \n",
      " 23        [16, 19, 22]  1    431452  ultralytics.nn.modules.head.Detect           [4, [64, 128, 256]]           \n",
      "YOLO11n summary: 319 layers, 2,590,620 parameters, 2,590,604 gradients, 6.4 GFLOPs\n",
      "\n",
      "Transferred 448/499 items from pretrained weights\n",
      "Freezing layer 'model.23.dfl.conv.weight'\n",
      "\u001b[34m\u001b[1mAMP: \u001b[0mrunning Automatic Mixed Precision (AMP) checks...\n",
      "\u001b[34m\u001b[1mAMP: \u001b[0mchecks passed ✅\n"
     ]
    },
    {
     "name": "stderr",
     "output_type": "stream",
     "text": [
      "\u001b[34m\u001b[1mtrain: \u001b[0mScanning /home/anna/Git/tomato2024/merged_Dataset/train/labels.cache... 3134 images, 0 backgrounds, 0 corrupt: 100%|██████████| 3134/3134 [00:00<?, ?it/s]"
     ]
    },
    {
     "name": "stdout",
     "output_type": "stream",
     "text": [
      "\u001b[34m\u001b[1mtrain: \u001b[0mWARNING ⚠️ /home/anna/Git/tomato2024/merged_Dataset/train/images/stereo20190405_133623_p1_snap_036_jpg.rf.1f37e8313d6af1a15762465014116f51.jpg: 1 duplicate labels removed\n",
      "\u001b[34m\u001b[1mtrain: \u001b[0mWARNING ⚠️ /home/anna/Git/tomato2024/merged_Dataset/train/images/stereo20190405_133623_p1_snap_036_jpg.rf.4a842870c58921ac75a32f34844e016a.jpg: 1 duplicate labels removed\n",
      "\u001b[34m\u001b[1mtrain: \u001b[0mWARNING ⚠️ /home/anna/Git/tomato2024/merged_Dataset/train/images/stereo20190405_133623_p1_snap_036_jpg.rf.50e0bae7caf783dc1a1a9a184743598e.jpg: 1 duplicate labels removed\n",
      "\u001b[34m\u001b[1mtrain: \u001b[0mWARNING ⚠️ /home/anna/Git/tomato2024/merged_Dataset/train/images/stereo20190405_133623_p2_snap_043_jpg.rf.4ae944f2f7a2af9f731ae2d75a99a6d2.jpg: 1 duplicate labels removed\n",
      "\u001b[34m\u001b[1mtrain: \u001b[0mWARNING ⚠️ /home/anna/Git/tomato2024/merged_Dataset/train/images/stereo20190405_133623_p2_snap_043_jpg.rf.846d6e2948ffa402264b2283bc6bee95.jpg: 1 duplicate labels removed\n",
      "\u001b[34m\u001b[1mtrain: \u001b[0mWARNING ⚠️ /home/anna/Git/tomato2024/merged_Dataset/train/images/stereo20190405_133623_p2_snap_043_jpg.rf.97098ede8ce7e2ead2a86dd8bba6984c.jpg: 1 duplicate labels removed\n",
      "\u001b[34m\u001b[1mtrain: \u001b[0mWARNING ⚠️ /home/anna/Git/tomato2024/merged_Dataset/train/images/stereo20190405_133623_p2_snap_087_jpg.rf.9adbf6f83189c34fe2846f51a2af06a2.jpg: 2 duplicate labels removed\n",
      "\u001b[34m\u001b[1mtrain: \u001b[0mWARNING ⚠️ /home/anna/Git/tomato2024/merged_Dataset/train/images/stereo20190405_133623_p2_snap_087_jpg.rf.a8698fd99f10bf9b32015731567c33d8.jpg: 2 duplicate labels removed\n",
      "\u001b[34m\u001b[1mtrain: \u001b[0mWARNING ⚠️ /home/anna/Git/tomato2024/merged_Dataset/train/images/stereo20190405_133623_p2_snap_087_jpg.rf.fc7b1e7d4459d7b2bc2938ea24156299.jpg: 2 duplicate labels removed\n",
      "\u001b[34m\u001b[1mtrain: \u001b[0mWARNING ⚠️ /home/anna/Git/tomato2024/merged_Dataset/train/images/stereo20190406_054921_p0_snap_414_jpg.rf.32f7248f912e4b8aa44e431ed0a42137.jpg: 1 duplicate labels removed\n",
      "\u001b[34m\u001b[1mtrain: \u001b[0mWARNING ⚠️ /home/anna/Git/tomato2024/merged_Dataset/train/images/stereo20190406_054921_p0_snap_414_jpg.rf.43abee3bec764206883c430e816c8a77.jpg: 1 duplicate labels removed\n",
      "\u001b[34m\u001b[1mtrain: \u001b[0mWARNING ⚠️ /home/anna/Git/tomato2024/merged_Dataset/train/images/stereo20190406_054921_p0_snap_414_jpg.rf.b025b8a73baa137e94586388c035301e.jpg: 1 duplicate labels removed\n",
      "\u001b[34m\u001b[1mtrain: \u001b[0mWARNING ⚠️ /home/anna/Git/tomato2024/merged_Dataset/train/images/stereo20190406_054921_p0_snap_544_jpg.rf.5d6dbf08e5879372f3b2c0d615b96e5a.jpg: 1 duplicate labels removed\n",
      "\u001b[34m\u001b[1mtrain: \u001b[0mWARNING ⚠️ /home/anna/Git/tomato2024/merged_Dataset/train/images/stereo20190406_054921_p0_snap_544_jpg.rf.8e211bc34d59e6f32612fb94a4cd91e8.jpg: 1 duplicate labels removed\n",
      "\u001b[34m\u001b[1mtrain: \u001b[0mWARNING ⚠️ /home/anna/Git/tomato2024/merged_Dataset/train/images/stereo20190406_054921_p0_snap_544_jpg.rf.c31fa665c6366db26e96e99b7d8cd3e1.jpg: 1 duplicate labels removed\n",
      "\u001b[34m\u001b[1mtrain: \u001b[0mWARNING ⚠️ /home/anna/Git/tomato2024/merged_Dataset/train/images/stereo20190406_054921_p0_snap_822_jpg.rf.12ce7268ea3d6bfa495834eea6872a60.jpg: 1 duplicate labels removed\n",
      "\u001b[34m\u001b[1mtrain: \u001b[0mWARNING ⚠️ /home/anna/Git/tomato2024/merged_Dataset/train/images/stereo20190406_054921_p0_snap_822_jpg.rf.73d52a63d599e2da78b26efac9afaa30.jpg: 1 duplicate labels removed\n",
      "\u001b[34m\u001b[1mtrain: \u001b[0mWARNING ⚠️ /home/anna/Git/tomato2024/merged_Dataset/train/images/stereo20190406_054921_p0_snap_822_jpg.rf.7dd7fe4d2458d3ac0dae2103f159ca2b.jpg: 1 duplicate labels removed\n",
      "\u001b[34m\u001b[1mtrain: \u001b[0mWARNING ⚠️ /home/anna/Git/tomato2024/merged_Dataset/train/images/stereo20190406_065607_p0_snap_080_jpg.rf.021df6aed7db36fc31d591a7af4c9f50.jpg: 1 duplicate labels removed\n",
      "\u001b[34m\u001b[1mtrain: \u001b[0mWARNING ⚠️ /home/anna/Git/tomato2024/merged_Dataset/train/images/stereo20190406_065607_p0_snap_080_jpg.rf.519b1562a19940be8f06ceb11a6c2d2e.jpg: 1 duplicate labels removed\n",
      "\u001b[34m\u001b[1mtrain: \u001b[0mWARNING ⚠️ /home/anna/Git/tomato2024/merged_Dataset/train/images/stereo20190406_065607_p0_snap_080_jpg.rf.f406e3d637b91afa932e5466bb42b7e5.jpg: 1 duplicate labels removed\n"
     ]
    },
    {
     "name": "stderr",
     "output_type": "stream",
     "text": [
      "\n",
      "\u001b[34m\u001b[1mval: \u001b[0mScanning /home/anna/Git/tomato2024/merged_Dataset/valid/labels.cache... 294 images, 0 backgrounds, 0 corrupt: 100%|██████████| 294/294 [00:00<?, ?it/s]\n"
     ]
    },
    {
     "name": "stdout",
     "output_type": "stream",
     "text": [
      "Plotting labels to runs/detect/train21/labels.jpg... \n",
      "\u001b[34m\u001b[1moptimizer:\u001b[0m 'optimizer=auto' found, ignoring 'lr0=0.01' and 'momentum=0.937' and determining best 'optimizer', 'lr0' and 'momentum' automatically... \n",
      "\u001b[34m\u001b[1moptimizer:\u001b[0m AdamW(lr=0.00125, momentum=0.9) with parameter groups 81 weight(decay=0.0), 88 weight(decay=0.0005), 87 bias(decay=0.0)\n",
      "Image sizes 320 train, 320 val\n",
      "Using 8 dataloader workers\n",
      "Logging results to \u001b[1mruns/detect/train21\u001b[0m\n",
      "Starting training for 2 epochs...\n",
      "\n",
      "      Epoch    GPU_mem   box_loss   cls_loss   dfl_loss  Instances       Size\n"
     ]
    },
    {
     "name": "stderr",
     "output_type": "stream",
     "text": [
      "        1/2         1G      1.393      2.341      1.128        136        320: 100%|██████████| 196/196 [00:11<00:00, 17.29it/s]\n",
      "                 Class     Images  Instances      Box(P          R      mAP50  mAP50-95): 100%|██████████| 10/10 [00:00<00:00, 10.45it/s]"
     ]
    },
    {
     "name": "stdout",
     "output_type": "stream",
     "text": [
      "                   all        294       2726      0.668      0.431      0.437      0.272\n"
     ]
    },
    {
     "name": "stderr",
     "output_type": "stream",
     "text": [
      "\n"
     ]
    },
    {
     "name": "stdout",
     "output_type": "stream",
     "text": [
      "\n",
      "      Epoch    GPU_mem   box_loss   cls_loss   dfl_loss  Instances       Size\n"
     ]
    },
    {
     "name": "stderr",
     "output_type": "stream",
     "text": [
      "        2/2      0.86G      1.183      1.173      1.037        144        320: 100%|██████████| 196/196 [00:10<00:00, 19.32it/s]\n",
      "                 Class     Images  Instances      Box(P          R      mAP50  mAP50-95): 100%|██████████| 10/10 [00:00<00:00, 12.45it/s]"
     ]
    },
    {
     "name": "stdout",
     "output_type": "stream",
     "text": [
      "                   all        294       2726      0.637       0.54      0.555      0.369\n"
     ]
    },
    {
     "name": "stderr",
     "output_type": "stream",
     "text": [
      "\n"
     ]
    },
    {
     "name": "stdout",
     "output_type": "stream",
     "text": [
      "\n",
      "2 epochs completed in 0.007 hours.\n",
      "Optimizer stripped from runs/detect/train21/weights/last.pt, 5.4MB\n",
      "Optimizer stripped from runs/detect/train21/weights/best.pt, 5.4MB\n",
      "\n",
      "Validating runs/detect/train21/weights/best.pt...\n",
      "Ultralytics 8.3.31 🚀 Python-3.10.15 torch-2.5.1+cu124 CUDA:gpu (NVIDIA GeForce RTX 4050 Laptop GPU, 5898MiB)\n",
      "YOLO11n summary (fused): 238 layers, 2,582,932 parameters, 0 gradients, 6.3 GFLOPs\n"
     ]
    },
    {
     "name": "stderr",
     "output_type": "stream",
     "text": [
      "                 Class     Images  Instances      Box(P          R      mAP50  mAP50-95): 100%|██████████| 10/10 [00:01<00:00,  5.79it/s]\n"
     ]
    },
    {
     "name": "stdout",
     "output_type": "stream",
     "text": [
      "                   all        294       2726      0.637       0.54      0.554      0.369\n",
      "               GTomato        218       1484      0.705      0.708       0.73      0.482\n",
      "               HTomato        151        364      0.503       0.61      0.547      0.391\n",
      "               RTomato        217        799      0.765      0.703      0.771       0.52\n",
      "                  stem         41         79      0.578      0.139      0.168     0.0853\n",
      "Speed: 0.1ms preprocess, 0.5ms inference, 0.0ms loss, 0.7ms postprocess per image\n",
      "Results saved to \u001b[1mruns/detect/train21\u001b[0m\n"
     ]
    }
   ],
   "source": [
    "train_results = model.train(\n",
    "    data = \"/home/anna/Git/tomato2024/merged_Dataset/data.yaml\",\n",
    "    epochs = 2,\n",
    "    imgsz = 320,\n",
    "    device = \"gpu\" # cpu\n",
    ")"
   ]
  }
 ],
 "metadata": {
  "kernelspec": {
   "display_name": "tomato",
   "language": "python",
   "name": "python3"
  },
  "language_info": {
   "codemirror_mode": {
    "name": "ipython",
    "version": 3
   },
   "file_extension": ".py",
   "mimetype": "text/x-python",
   "name": "python",
   "nbconvert_exporter": "python",
   "pygments_lexer": "ipython3",
   "version": "3.10.15"
  }
 },
 "nbformat": 4,
 "nbformat_minor": 2
}
